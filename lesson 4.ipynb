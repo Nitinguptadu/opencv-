{
 "cells": [
  {
   "cell_type": "code",
   "execution_count": 1,
   "metadata": {},
   "outputs": [],
   "source": [
    "import cv2"
   ]
  },
  {
   "cell_type": "markdown",
   "metadata": {},
   "source": [
    "# To draw line \n",
    "\n",
    "# (0,0) and (755,255) is the coordinate values\n",
    "\n",
    "# (0,255,0) for bgr color\n",
    "\n",
    "# 10 is thickness of line \n",
    "\n",
    "\n",
    "# rgb color picker\n"
   ]
  },
  {
   "cell_type": "code",
   "execution_count": 4,
   "metadata": {},
   "outputs": [],
   "source": [
    "img = cv2.imread(\"nejmoa2001191_f3-PA.jpeg\",1)\n",
    "\n",
    "img = cv2.line(img,(0,0),(755,255),(0,255,0),10)\n",
    "\n",
    "cv2.imshow(\"image\",img)\n",
    "\n",
    "cv2.waitKey()\n",
    "cv2.destroyAllWindows()\n",
    "\n",
    "\n",
    "\n"
   ]
  },
  {
   "cell_type": "markdown",
   "metadata": {},
   "source": [
    "# To draw arrow \n",
    "# (0,0) and (755,255) is the coordinate values\n",
    "# (0,255,0) for bgr color\n",
    "# 10 is thickness of line \n",
    "\n",
    "\n",
    "# rgb color picker\n",
    "\n"
   ]
  },
  {
   "cell_type": "code",
   "execution_count": 5,
   "metadata": {},
   "outputs": [],
   "source": [
    "img = cv2.imread(\"nejmoa2001191_f3-PA.jpeg\",1)\n",
    "\n",
    "img = cv2.line(img,(0,0),(255,255),(0,255,0),10)\n",
    "img = cv2.arrowedLine(img,(0,255),(255,255),(0,255,0),10)\n",
    "\n",
    "\n",
    "cv2.imshow(\"image\",img)\n",
    "\n",
    "cv2.waitKey()\n",
    "cv2.destroyAllWindows()\n",
    "\n",
    "\n"
   ]
  },
  {
   "cell_type": "raw",
   "metadata": {},
   "source": [
    "x1,y1 -------------------\n",
    "-\n",
    "-\n",
    "-\n",
    "-\n",
    "-\n",
    "-\n",
    "-\n",
    "-\n",
    "-\n",
    "-                     x2,y2"
   ]
  },
  {
   "cell_type": "markdown",
   "metadata": {},
   "source": [
    "# rectangle (384,0) is x1 and y1 coordinates and (510,288) is x2 and y2 coordinates"
   ]
  },
  {
   "cell_type": "code",
   "execution_count": 6,
   "metadata": {},
   "outputs": [],
   "source": [
    "img = cv2.imread(\"nejmoa2001191_f3-PA.jpeg\",1)\n",
    "\n",
    "img = cv2.line(img,(0,0),(255,255),(0,255,0),10)\n",
    "img = cv2.arrowedLine(img,(0,255),(255,255),(0,255,0),10)\n",
    "img = cv2.rectangle(img,(384,0),(510,288),(0,0,255),10)\n",
    "\n",
    "\n",
    "cv2.imshow(\"image\",img)\n",
    "\n",
    "cv2.waitKey()\n",
    "cv2.destroyAllWindows()\n",
    "\n",
    "\n",
    "\n"
   ]
  },
  {
   "cell_type": "markdown",
   "metadata": {},
   "source": [
    "# Rectangle (384,0) is x1 and y1 coordinates and (510,288) is x2 and y2 #coordinates and insted of 10 we use -1  it will fill the box with color given by #us\n"
   ]
  },
  {
   "cell_type": "code",
   "execution_count": 7,
   "metadata": {},
   "outputs": [],
   "source": [
    "img = cv2.imread(\"nejmoa2001191_f3-PA.jpeg\",1)\n",
    "\n",
    "img = cv2.line(img,(0,0),(255,255),(0,255,0),10)\n",
    "img = cv2.arrowedLine(img,(0,255),(255,255),(0,255,0),10)\n",
    "img = cv2.rectangle(img,(384,0),(510,288),(0,0,255),-1)\n",
    "\n",
    "\n",
    "cv2.imshow(\"image\",img)\n",
    "\n",
    "cv2.waitKey()\n",
    "cv2.destroyAllWindows()\n",
    "\n",
    "\n"
   ]
  },
  {
   "cell_type": "markdown",
   "metadata": {},
   "source": [
    "# To draw circle  (566,754) is the center and (50) is the radius "
   ]
  },
  {
   "cell_type": "code",
   "execution_count": 11,
   "metadata": {},
   "outputs": [],
   "source": [
    "img = cv2.imread(\"nejmoa2001191_f3-PA.jpeg\",1)\n",
    "\n",
    "img = cv2.line(img,(0,0),(255,255),(0,255,0),10)\n",
    "img = cv2.arrowedLine(img,(0,255),(255,255),(0,255,0),10)\n",
    "img = cv2.rectangle(img,(384,0),(510,288),(0,0,255),-1)\n",
    "img = cv2.circle(img,(566,754),50,(255,0,0),-1)\n",
    "\n",
    "\n",
    "\n",
    "cv2.imshow(\"image\",img)\n",
    "\n",
    "cv2.waitKey()\n",
    "cv2.destroyAllWindows()\n",
    "\n",
    "\n",
    "# rectangle (384,0) is x1 and y1 coordinates and (510,288) is x2 and y2 coordinates and insted of 10 we use -1 \n",
    "# it will fill the box with color given by us\n"
   ]
  },
  {
   "cell_type": "markdown",
   "metadata": {},
   "source": [
    "# To put text \n",
    "\n",
    "# PUTTEXT 4 is font size & cv2.LINE_AA is line type"
   ]
  },
  {
   "cell_type": "code",
   "execution_count": 12,
   "metadata": {},
   "outputs": [],
   "source": [
    "img = cv2.imread(\"nejmoa2001191_f3-PA.jpeg\",1)\n",
    "\n",
    "img = cv2.line(img,(0,0),(255,255),(0,255,0),10)\n",
    "img = cv2.arrowedLine(img,(0,255),(255,255),(0,255,0),10)\n",
    "img = cv2.rectangle(img,(384,0),(510,288),(0,0,255),-1)\n",
    "img = cv2.circle(img,(566,754),50,(255,0,0),-1)\n",
    "\n",
    "font = cv2.FONT_HERSHEY_SCRIPT_COMPLEX\n",
    "\n",
    "img = cv2.putText(img,'Open CV',(10,500),font,4,(255,255,255),10,cv2.LINE_AA)\n",
    "\n",
    "\n",
    "\n",
    "cv2.imshow(\"image\",img)\n",
    "\n",
    "cv2.waitKey()\n",
    "cv2.destroyAllWindows()\n",
    "\n",
    "\n",
    "# rectangle (384,0) is x1 and y1 coordinates and (510,288) is x2 and y2 coordinates and insted of 10 we use -1 \n",
    "# it will fill the box with color given by us\n"
   ]
  },
  {
   "cell_type": "markdown",
   "metadata": {},
   "source": [
    "# creating a image using NUMPY "
   ]
  },
  {
   "cell_type": "code",
   "execution_count": 15,
   "metadata": {},
   "outputs": [],
   "source": [
    "import numpy as np\n",
    "\n",
    "img = np.zeros([512,512,3],np.uint8)\n",
    "\n",
    "img = cv2.line(img,(0,0),(255,255),(0,255,0),10)\n",
    "img = cv2.arrowedLine(img,(0,255),(255,255),(0,255,0),10)\n",
    "img = cv2.rectangle(img,(384,0),(510,288),(0,0,255),-1)\n",
    "img = cv2.circle(img,(566,754),50,(255,0,0),-1)\n",
    "\n",
    "font = cv2.FONT_HERSHEY_SCRIPT_COMPLEX\n",
    "\n",
    "img = cv2.putText(img,'Open CV',(10,500),font,4,(255,255,255),10,cv2.LINE_AA)\n",
    "\n",
    "\n",
    "\n",
    "cv2.imshow(\"image\",img)\n",
    "\n",
    "cv2.waitKey()\n",
    "cv2.destroyAllWindows()\n",
    "\n",
    "\n",
    "# rectangle (384,0) is x1 and y1 coordinates and (510,288) is x2 and y2 coordinates and insted of 10 we use -1 \n",
    "# it will fill the box with color given by us\n"
   ]
  },
  {
   "cell_type": "code",
   "execution_count": 17,
   "metadata": {},
   "outputs": [],
   "source": [
    "import numpy as np\n",
    "\n",
    "img = np.ones([512,512,3],np.uint8)\n",
    "\n",
    "img = cv2.line(img,(0,0),(255,255),(0,255,0),10)\n",
    "img = cv2.arrowedLine(img,(0,255),(255,255),(0,255,0),10)\n",
    "img = cv2.rectangle(img,(384,0),(510,288),(0,0,255),-1)\n",
    "img = cv2.circle(img,(566,754),50,(255,0,0),-1)\n",
    "\n",
    "font = cv2.FONT_HERSHEY_SCRIPT_COMPLEX\n",
    "\n",
    "img = cv2.putText(img,'Open CV',(10,500),font,4,(255,255,255),10,cv2.LINE_AA)\n",
    "\n",
    "\n",
    "\n",
    "cv2.imshow(\"image\",img)\n",
    "\n",
    "cv2.waitKey()\n",
    "cv2.destroyAllWindows()\n",
    "\n",
    "\n",
    "# rectangle (384,0) is x1 and y1 coordinates and (510,288) is x2 and y2 coordinates and insted of 10 we use -1 \n",
    "# it will fill the box with color given by us\n"
   ]
  },
  {
   "cell_type": "code",
   "execution_count": null,
   "metadata": {},
   "outputs": [],
   "source": []
  }
 ],
 "metadata": {
  "kernelspec": {
   "display_name": "Python 3",
   "language": "python",
   "name": "python3"
  },
  "language_info": {
   "codemirror_mode": {
    "name": "ipython",
    "version": 3
   },
   "file_extension": ".py",
   "mimetype": "text/x-python",
   "name": "python",
   "nbconvert_exporter": "python",
   "pygments_lexer": "ipython3",
   "version": "3.7.5"
  }
 },
 "nbformat": 4,
 "nbformat_minor": 2
}
