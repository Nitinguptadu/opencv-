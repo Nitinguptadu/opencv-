{
 "cells": [
  {
   "cell_type": "code",
   "execution_count": 1,
   "metadata": {},
   "outputs": [],
   "source": [
    "import cv2"
   ]
  },
  {
   "cell_type": "markdown",
   "metadata": {},
   "source": [
    "# Show Width and Hieght on Videos using OpenCV Python"
   ]
  },
  {
   "cell_type": "code",
   "execution_count": 2,
   "metadata": {},
   "outputs": [
    {
     "name": "stdout",
     "output_type": "stream",
     "text": [
      "480.0\n",
      "640.0\n",
      "1280.0\n",
      "720.0\n"
     ]
    }
   ],
   "source": [
    "cap = cv2.VideoCapture(0)\n",
    "print(cap.get(cv2.CAP_PROP_FRAME_HEIGHT))\n",
    "print(cap.get(cv2.CAP_PROP_FRAME_WIDTH))\n",
    "\n",
    "\n",
    "cap.set(3,3000)\n",
    "cap.set(4,1200)\n",
    "\n",
    "print(cap.get(3))\n",
    "print(cap.get(4))\n",
    "\n",
    "\n",
    "while(cap.isOpened()):\n",
    "    ret ,frame = cap.read()\n",
    "    if ret ==  True:\n",
    "        \n",
    "        font = cv2.FONT_HERSHEY_COMPLEX\n",
    "        text = 'Width :' + str(cap.get(3)) + 'Height : ' + str(cap.get(4))\n",
    "        frame = cv2.putText(frame, text, (10,50),font,1,(0,255,0),2,cv2.LINE_AA)\n",
    "        cv2.imshow(\"frame\",frame)\n",
    "        \n",
    "        \n",
    "        if cv2.waitKey(1)  & 0xFF == ord('q'): \n",
    "            break\n",
    "    else:\n",
    "        break\n",
    "        \n",
    "        \n",
    "cap.release()\n",
    "cv2.destroyAllWindows()"
   ]
  },
  {
   "cell_type": "markdown",
   "metadata": {},
   "source": [
    "# Show Date and Time on Videos using OpenCV Python"
   ]
  },
  {
   "cell_type": "code",
   "execution_count": 3,
   "metadata": {},
   "outputs": [],
   "source": [
    "import datetime"
   ]
  },
  {
   "cell_type": "code",
   "execution_count": 4,
   "metadata": {},
   "outputs": [
    {
     "name": "stdout",
     "output_type": "stream",
     "text": [
      "480.0\n",
      "640.0\n",
      "1280.0\n",
      "720.0\n"
     ]
    }
   ],
   "source": [
    "cap = cv2.VideoCapture(0)\n",
    "print(cap.get(cv2.CAP_PROP_FRAME_HEIGHT))\n",
    "print(cap.get(cv2.CAP_PROP_FRAME_WIDTH))\n",
    "\n",
    "\n",
    "cap.set(3,3000)\n",
    "cap.set(4,1200)\n",
    "\n",
    "print(cap.get(3))\n",
    "print(cap.get(4))\n",
    "\n",
    "\n",
    "while(cap.isOpened()):\n",
    "    ret ,frame = cap.read()\n",
    "    if ret ==  True:\n",
    "        \n",
    "        #font = cv2.FONT_HERSHEY_COMPLEX\n",
    "        date = str(datetime.datetime.now())\n",
    "        text = 'Width :' + str(cap.get(3)) + 'Height : ' + str(cap.get(4))\n",
    "        frame = cv2.putText(frame, date, (10,50),font,1,(0,255,0),2,cv2.LINE_AA)\n",
    "        cv2.imshow(\"frame\",frame)\n",
    "        \n",
    "        \n",
    "        if cv2.waitKey(1)  & 0xFF == ord('q'): \n",
    "            break\n",
    "    else:\n",
    "        break\n",
    "        \n",
    "        \n",
    "cap.release()\n",
    "cv2.destroyAllWindows()"
   ]
  },
  {
   "cell_type": "code",
   "execution_count": null,
   "metadata": {},
   "outputs": [],
   "source": []
  }
 ],
 "metadata": {
  "kernelspec": {
   "display_name": "Python 3",
   "language": "python",
   "name": "python3"
  },
  "language_info": {
   "codemirror_mode": {
    "name": "ipython",
    "version": 3
   },
   "file_extension": ".py",
   "mimetype": "text/x-python",
   "name": "python",
   "nbconvert_exporter": "python",
   "pygments_lexer": "ipython3",
   "version": "3.7.5"
  }
 },
 "nbformat": 4,
 "nbformat_minor": 2
}
