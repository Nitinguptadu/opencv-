{
 "cells": [
  {
   "cell_type": "code",
   "execution_count": 2,
   "metadata": {},
   "outputs": [],
   "source": [
    "import numpy as np\n",
    "import cv2"
   ]
  },
  {
   "cell_type": "code",
   "execution_count": 11,
   "metadata": {},
   "outputs": [],
   "source": [
    "\n",
    "def click_event(event, x, y, flags, param):\n",
    "    if event == cv2.EVENT_LBUTTONDOWN:\n",
    "        cv2.circle(img,(x,y),3,(0,0,255),-1)\n",
    "        points.append((x,y))\n",
    "        if len(points)>=2:\n",
    "            cv2.line(img,points[-1],points[-2],(255,0,0),5)\n",
    "        cv2.imshow(\"image\",img)\n",
    "        \n",
    "\n",
    "img = np.zeros([512,512,3],np.uint8)\n",
    "cv2.imshow(\"image\",img)\n",
    "\n",
    "\n",
    "points = []\n",
    "        \n",
    "cv2.setMouseCallback(\"image\",click_event)\n",
    "\n",
    "\n",
    "\n",
    "cv2.waitKey(0)\n",
    "cv2.destroyAllWindows()"
   ]
  },
  {
   "cell_type": "code",
   "execution_count": 14,
   "metadata": {},
   "outputs": [],
   "source": [
    "\n",
    "def click_event(event, x, y, flags, param):\n",
    "    if event == cv2.EVENT_LBUTTONDOWN:\n",
    "        blue = img[x,y,0]\n",
    "        green = img[x,y,1]\n",
    "        red = img[x,y,2]\n",
    "        cv2.circle(img,(x,y),3,(0,0,255),-1)\n",
    "        mycolor = np.zeros([512,512,3],np.uint8)\n",
    "        \n",
    "        mycolor[:] = [blue,green,red]\n",
    "        \n",
    "        cv2.imshow(\"colour\",mycolor)\n",
    "        \n",
    "\n",
    "#mg = np.zeros([512,512,3],np.uint8)\n",
    "img = cv2.imread(\"nejmoa2001191_f3-PA.jpeg\")\n",
    "cv2.imshow(\"image\",img)\n",
    "\n",
    "\n",
    "points = []\n",
    "        \n",
    "cv2.setMouseCallback(\"image\",click_event)\n",
    "\n",
    "\n",
    "\n",
    "cv2.waitKey(0)\n",
    "cv2.destroyAllWindows()"
   ]
  },
  {
   "cell_type": "code",
   "execution_count": null,
   "metadata": {},
   "outputs": [],
   "source": []
  }
 ],
 "metadata": {
  "kernelspec": {
   "display_name": "Python 3",
   "language": "python",
   "name": "python3"
  },
  "language_info": {
   "codemirror_mode": {
    "name": "ipython",
    "version": 3
   },
   "file_extension": ".py",
   "mimetype": "text/x-python",
   "name": "python",
   "nbconvert_exporter": "python",
   "pygments_lexer": "ipython3",
   "version": "3.7.5"
  }
 },
 "nbformat": 4,
 "nbformat_minor": 2
}
