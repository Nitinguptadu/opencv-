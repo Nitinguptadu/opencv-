{
 "cells": [
  {
   "cell_type": "code",
   "execution_count": 1,
   "metadata": {},
   "outputs": [],
   "source": [
    "import cv2"
   ]
  },
  {
   "cell_type": "code",
   "execution_count": 2,
   "metadata": {},
   "outputs": [],
   "source": [
    "img = cv2.imread(\"nejmoa2001191_f3-PA.jpeg\",0)"
   ]
  },
  {
   "cell_type": "code",
   "execution_count": 3,
   "metadata": {},
   "outputs": [
    {
     "data": {
      "text/plain": [
       "array([[57, 57, 57, ..., 57, 59, 47],\n",
       "       [57, 57, 57, ..., 57, 59, 47],\n",
       "       [57, 57, 57, ..., 57, 59, 47],\n",
       "       ...,\n",
       "       [63, 63, 62, ..., 57, 59, 47],\n",
       "       [64, 62, 60, ..., 57, 59, 47],\n",
       "       [64, 62, 60, ..., 57, 59, 47]], dtype=uint8)"
      ]
     },
     "execution_count": 3,
     "metadata": {},
     "output_type": "execute_result"
    }
   ],
   "source": [
    "img"
   ]
  },
  {
   "cell_type": "code",
   "execution_count": 4,
   "metadata": {},
   "outputs": [
    {
     "ename": "SyntaxError",
     "evalue": "invalid syntax (<ipython-input-4-2e116c14e04c>, line 6)",
     "output_type": "error",
     "traceback": [
      "\u001b[0;36m  File \u001b[0;32m\"<ipython-input-4-2e116c14e04c>\"\u001b[0;36m, line \u001b[0;32m6\u001b[0m\n\u001b[0;31m    else k == ord(\"s\"):\u001b[0m\n\u001b[0m         ^\u001b[0m\n\u001b[0;31mSyntaxError\u001b[0m\u001b[0;31m:\u001b[0m invalid syntax\n"
     ]
    }
   ],
   "source": [
    "cv2.imshow(\"image\",img)\n",
    "k = cv2.waitKey(0)\n",
    "\n",
    "if k ==27:\n",
    "    cv2.destroyAllWindows()\n",
    "else k == ord(\"s\"):\n",
    "    cv2.imwrite(\"new.jpg\",img)\n",
    "    cv2.destroyAllWindows()\n",
    "    \n"
   ]
  },
  {
   "cell_type": "code",
   "execution_count": null,
   "metadata": {},
   "outputs": [],
   "source": []
  }
 ],
 "metadata": {
  "kernelspec": {
   "display_name": "Python 3",
   "language": "python",
   "name": "python3"
  },
  "language_info": {
   "codemirror_mode": {
    "name": "ipython",
    "version": 3
   },
   "file_extension": ".py",
   "mimetype": "text/x-python",
   "name": "python",
   "nbconvert_exporter": "python",
   "pygments_lexer": "ipython3",
   "version": "3.7.5"
  }
 },
 "nbformat": 4,
 "nbformat_minor": 2
}
